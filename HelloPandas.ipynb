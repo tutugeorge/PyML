{
 "cells": [
  {
   "cell_type": "code",
   "execution_count": null,
   "metadata": {},
   "outputs": [],
   "source": [
    "import pandas as pd\n",
    "data = pd.read_csv(\"poll-data.csv\", encoding=\"Latin-1\")\n",
    "#data[\"Do you celebrate Thanksgiving?\"].unique()\n",
    "data.shape\n",
    "data[\"What is your gender?\"].value_counts(dropna=False)\n",
    "import math\n",
    "def gender_code(gender_string):\n",
    "    if isinstance(gender_string, float) and math.isnan(gender_string):\n",
    "        return gender_string\n",
    "    return int(gender_string == \"Female\")\n",
    "data[\"gender\"] = data[\"What is your gender?\"].apply(gender_code)\n",
    "data[\"gender\"].value_counts(dropna=False)\n",
    "data.apply(lambda x: x.dtype).head()\n",
    "data[\"How much total combined money did all members of your HOUSEHOLD earn last year?\"].value_counts(dropna=False)\n",
    "import numpy as np\n",
    "def income_value(income_range):\n",
    "    if(income_range == \"$200,000 and up\"):\n",
    "        return 200000\n",
    "    elif(income_range == \"Prefer not to answer\"):\n",
    "        return np.nan\n",
    "    elif(isinstance(income_range, float) and math.isnan(income_range)):\n",
    "        return np.nan\n",
    "    income_range = income_range.replace(\",\",\"\").replace(\"$\",\"\")\n",
    "    income_high, income_low = income_range.split(\" to \")\n",
    "    return (int(income_high) + int(income_low)) / 2\n",
    "data[\"income\"] = data[\"How much total combined money did all members of your HOUSEHOLD earn last year?\"].apply(income_value)\n",
    "data[\"income\"].value_counts()"
   ]
  },
  {
   "cell_type": "code",
   "execution_count": null,
   "metadata": {
    "collapsed": true
   },
   "outputs": [],
   "source": []
  },
  {
   "cell_type": "code",
   "execution_count": null,
   "metadata": {
    "collapsed": true
   },
   "outputs": [],
   "source": []
  }
 ],
 "metadata": {
  "kernelspec": {
   "display_name": "Python 3",
   "language": "python",
   "name": "python3"
  },
  "language_info": {
   "codemirror_mode": {
    "name": "ipython",
    "version": 3
   },
   "file_extension": ".py",
   "mimetype": "text/x-python",
   "name": "python",
   "nbconvert_exporter": "python",
   "pygments_lexer": "ipython3",
   "version": "3.6.3"
  }
 },
 "nbformat": 4,
 "nbformat_minor": 2
}

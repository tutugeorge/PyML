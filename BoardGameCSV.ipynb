{
 "cells": [
  {
   "cell_type": "code",
   "execution_count": null,
   "metadata": {},
   "outputs": [],
   "source": [
    "import pandas\n",
    "print(\"importing data set : board game\")\n",
    "games = pandas.read_csv(\"games.csv\")\n",
    "import matplotlib.pyplot as plt\n",
    "print(\"plotting histogram of average raring\")\n",
    "plt.hist(games[\"average_rating\"])\n",
    "plt.show()\n",
    "#print(games[games[\"average_rating\"] == 0].iloc[0])\n",
    "#print(games[games[\"average_rating\"] > 0].iloc[0])\n",
    "print(\"cleaning data\")\n",
    "games = games[games[\"users_rated\"] > 0]\n",
    "games = games.dropna(axis=0)\n",
    "print(games.shape)\n",
    "from sklearn.cluster import KMeans\n",
    "kmeans_model = KMeans(n_clusters=5, random_state=1)\n",
    "print(\"filtering numeric only data\")\n",
    "good_columns = games._get_numeric_data() #to deal only with numeric data\n",
    "kmeans_model.fit(good_columns)\n",
    "labels = kmeans_model.labels_\n",
    "from sklearn.decomposition import PCA\n",
    "pca_2 = PCA(2)\n",
    "print(\"running PCA to reduce dimensionality\")\n",
    "plot_columns = pca_2.fit_transform(good_columns)\n",
    "print(\"plotting scatter plot\")\n",
    "plt.scatter(x=plot_columns[:,0], y = plot_columns[:,1], c = labels)\n",
    "plt.show()\n",
    "#games.corr()[\"average_rating\"]\n",
    "columns = games.columns.tolist()\n",
    "print(\"cleaning data\")\n",
    "columns = [c for c in columns if c not in [\"bayes_average_rating\", \"average_rating\", \"type\", \"name\"]]\n",
    "target = \"average_rating\"\n",
    "from sklearn.cross_validation import train_test_split\n",
    "print(\"forming training and test data\")\n",
    "train = games.sample(frac = 0.8, random_state=1)\n",
    "test = games.loc[~games.index.isin(train.index)]\n",
    "from sklearn.linear_model import LinearRegression\n",
    "model = LinearRegression()\n",
    "print(\"running linear regression algorithm on training data\")\n",
    "model.fit(train[columns], train[\"average_rating\"])\n",
    "from sklearn.metrics import mean_squared_error\n",
    "predictions = model.predict(test[columns])\n",
    "print(\"calculating error by predicting on test data\")\n",
    "print(mean_squared_error(predictions, test[target]))\n",
    "from sklearn.ensemble import RandomForestRegressor\n",
    "model = RandomForestRegressor(n_estimators=100, min_samples_leaf=10, random_state=1)\n",
    "print(\"running random forest algorithm\")\n",
    "model.fit(train[columns], train[target])\n",
    "predictions = model.predict(test[columns])\n",
    "print(\"calculating error by predicting on test data\")\n",
    "print(mean_squared_error(predictions, test[target]))"
   ]
  },
  {
   "cell_type": "code",
   "execution_count": null,
   "metadata": {
    "collapsed": true
   },
   "outputs": [],
   "source": []
  }
 ],
 "metadata": {
  "kernelspec": {
   "display_name": "Python 3",
   "language": "python",
   "name": "python3"
  },
  "language_info": {
   "codemirror_mode": {
    "name": "ipython",
    "version": 3
   },
   "file_extension": ".py",
   "mimetype": "text/x-python",
   "name": "python",
   "nbconvert_exporter": "python",
   "pygments_lexer": "ipython3",
   "version": "3.6.3"
  }
 },
 "nbformat": 4,
 "nbformat_minor": 2
}

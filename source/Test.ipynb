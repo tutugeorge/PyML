{
 "cells": [
  {
   "cell_type": "code",
   "execution_count": 5,
   "metadata": {},
   "outputs": [
    {
     "name": "stdout",
     "output_type": "stream",
     "text": [
      "750\n"
     ]
    }
   ],
   "source": [
    "import pandas as pd\n",
    "names = [\"sepal-length\", \"sepal-width\", \"petallenght\", \"petalwidth\", \"species\"]\n",
    "data = pd.read_csv(\"https://archive.ics.uci.edu/ml/machine-learning-databases/iris/iris.data\", names=names)\n",
    "print(data.size)"
   ]
  },
  {
   "cell_type": "code",
   "execution_count": 28,
   "metadata": {},
   "outputs": [
    {
     "name": "stdout",
     "output_type": "stream",
     "text": [
      "['sepal-length', 'sepal-width', 'petallenght', 'petalwidth']\n"
     ]
    },
    {
     "ename": "NameError",
     "evalue": "name 'index' is not defined",
     "output_type": "error",
     "traceback": [
      "\u001b[1;31m---------------------------------------------------------------------------\u001b[0m",
      "\u001b[1;31mNameError\u001b[0m                                 Traceback (most recent call last)",
      "\u001b[1;32m<ipython-input-28-5a533b39ebe7>\u001b[0m in \u001b[0;36m<module>\u001b[1;34m()\u001b[0m\n\u001b[0;32m     29\u001b[0m \u001b[0mdataset2\u001b[0m \u001b[1;33m=\u001b[0m \u001b[1;33m[\u001b[0m\u001b[0mc\u001b[0m \u001b[1;32mfor\u001b[0m \u001b[0mc\u001b[0m \u001b[1;32min\u001b[0m \u001b[0mdata\u001b[0m \u001b[1;32mif\u001b[0m \u001b[0mc\u001b[0m\u001b[1;33m.\u001b[0m\u001b[0mindex\u001b[0m \u001b[1;32mnot\u001b[0m \u001b[1;32min\u001b[0m \u001b[0mdataset1\u001b[0m\u001b[1;33m]\u001b[0m\u001b[1;33m\u001b[0m\u001b[0m\n\u001b[0;32m     30\u001b[0m \u001b[1;31m#dataset2 = data.loc(~data.index.isin(dataset1.index))\u001b[0m\u001b[1;33m\u001b[0m\u001b[1;33m\u001b[0m\u001b[0m\n\u001b[1;32m---> 31\u001b[1;33m \u001b[0mprint\u001b[0m\u001b[1;33m(\u001b[0m\u001b[0mdataset1\u001b[0m\u001b[1;33m[\u001b[0m\u001b[0mindex\u001b[0m\u001b[1;33m==\u001b[0m\u001b[1;36m14\u001b[0m\u001b[1;33m]\u001b[0m\u001b[1;33m)\u001b[0m\u001b[1;33m\u001b[0m\u001b[0m\n\u001b[0m\u001b[0;32m     32\u001b[0m \u001b[0mprint\u001b[0m\u001b[1;33m(\u001b[0m\u001b[0mdataset2\u001b[0m\u001b[1;33m.\u001b[0m\u001b[0mindex\u001b[0m\u001b[1;33m)\u001b[0m\u001b[1;33m\u001b[0m\u001b[0m\n\u001b[0;32m     33\u001b[0m \u001b[1;31m#pred = model1.predict(dataset2[columns])\u001b[0m\u001b[1;33m\u001b[0m\u001b[1;33m\u001b[0m\u001b[0m\n",
      "\u001b[1;31mNameError\u001b[0m: name 'index' is not defined"
     ]
    }
   ],
   "source": [
    "#print(data.describe())\n",
    "import matplotlib.pyplot as plt\n",
    "#data.plot(kind='box',subplots=True, layout=(2,2),sharex=False,sharey=False)\n",
    "#plt.show()\n",
    "#data.hist()\n",
    "#plt.show()\n",
    "from pandas.tools.plotting import scatter_matrix\n",
    "#scatter_matrix(data)\n",
    "#plt.show()\n",
    "from sklearn.linear_model import LinearRegression\n",
    "model1 = LinearRegression()\n",
    "\n",
    "import numpy as np\n",
    "def ConvertSpecies(speciesname):\n",
    "    if speciesname == \"Iris-setosa\":\n",
    "        return 1\n",
    "    elif speciesname == \"Iris-versicolor\":\n",
    "        return 2\n",
    "    else:\n",
    "        return 3\n",
    "dataset1 = data.sample(frac = 0.8, random_state=1)        \n",
    "dataset1[\"species\"] = dataset1[\"species\"].apply(ConvertSpecies)\n",
    "#print(data[\"species\"].value_counts())\n",
    "#print(data.sample(frac = 0.8, random_state=1).shape)\n",
    "columns = dataset1.columns.tolist()\n",
    "columns = [c for c in columns if c not in [\"species\"]]\n",
    "print(columns)\n",
    "model1.fit(dataset1[columns], dataset1[\"species\"])\n",
    "dataset2 = [c for c in data if c.index not in dataset1]\n",
    "#dataset2 = data.loc(~data.index.isin(dataset1.index))\n",
    "print(dataset1[index==14])\n",
    "print(dataset2.index)\n",
    "#pred = model1.predict(dataset2[columns])"
   ]
  },
  {
   "cell_type": "code",
   "execution_count": null,
   "metadata": {
    "collapsed": true
   },
   "outputs": [],
   "source": []
  }
 ],
 "metadata": {
  "kernelspec": {
   "display_name": "Python 3",
   "language": "python",
   "name": "python3"
  },
  "language_info": {
   "codemirror_mode": {
    "name": "ipython",
    "version": 3
   },
   "file_extension": ".py",
   "mimetype": "text/x-python",
   "name": "python",
   "nbconvert_exporter": "python",
   "pygments_lexer": "ipython3",
   "version": "3.6.3"
  }
 },
 "nbformat": 4,
 "nbformat_minor": 2
}

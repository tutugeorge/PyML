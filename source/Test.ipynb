{
 "cells": [
  {
   "cell_type": "code",
   "execution_count": null,
   "metadata": {},
   "outputs": [],
   "source": [
    "import pandas as pd\n",
    "names = [\"sepal-length\", \"sepal-width\", \"petallenght\", \"petalwidth\", \"species\"]\n",
    "data = pd.read_csv(\"https://archive.ics.uci.edu/ml/machine-learning-databases/iris/iris.data\", names=names)\n"
   ]
  },
  {
   "cell_type": "code",
   "execution_count": 39,
   "metadata": {},
   "outputs": [
    {
     "name": "stdout",
     "output_type": "stream",
     "text": [
      "3    150\n",
      "Name: species, dtype: int64\n"
     ]
    }
   ],
   "source": [
    "#print(data.describe())\n",
    "import matplotlib.pyplot as plt\n",
    "#data.plot(kind='box',subplots=True, layout=(2,2),sharex=False,sharey=False)\n",
    "#plt.show()\n",
    "#data.hist()\n",
    "#plt.show()\n",
    "from pandas.tools.plotting import scatter_matrix\n",
    "#scatter_matrix(data)\n",
    "#plt.show()\n",
    "from sklearn.linear_model import LinearRegression\n",
    "model1 = LinearRegression()\n",
    "\n",
    "import numpy as np\n",
    "def ConvertSpecies(speciesname):\n",
    "    if speciesname == \"Iris-setosa\":\n",
    "        return 1\n",
    "    elif speciesname == \"Iris-versicolor\":\n",
    "        return 2\n",
    "    else:\n",
    "        return 3\n",
    "dataset1 = data.sample(frac = 0.8, random_state=1)        \n",
    "dataset1[\"species\"] = dataset1[\"species\"].apply(ConvertSpecies)\n",
    "print(data[\"species\"].value_counts())\n",
    "#print(data.sample(frac = 0.8, random_state=1).shape)\n",
    "pred = model1.fit(dataset1, dataset1[\"species\"])"
   ]
  },
  {
   "cell_type": "code",
   "execution_count": null,
   "metadata": {
    "collapsed": true
   },
   "outputs": [],
   "source": []
  }
 ],
 "metadata": {
  "kernelspec": {
   "display_name": "Python 3",
   "language": "python",
   "name": "python3"
  },
  "language_info": {
   "codemirror_mode": {
    "name": "ipython",
    "version": 3
   },
   "file_extension": ".py",
   "mimetype": "text/x-python",
   "name": "python",
   "nbconvert_exporter": "python",
   "pygments_lexer": "ipython3",
   "version": "3.6.3"
  }
 },
 "nbformat": 4,
 "nbformat_minor": 2
}
